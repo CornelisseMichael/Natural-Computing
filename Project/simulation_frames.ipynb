{
 "cells": [
  {
   "cell_type": "code",
   "execution_count": 1,
   "id": "24214385",
   "metadata": {},
   "outputs": [],
   "source": [
    "%matplotlib inline\n",
    "# You’ll need display() to render in Colab/Jupyter\n",
    "from IPython.display import display, HTML, Image\n",
    "from src.structures import Environment\n",
    "from src.structures import StructureLayer\n",
    "from src.fireSimulation import FireLayer, SmokeLayer\n",
    "from src.aids import LightStripLayer, FireAlarmLayer\n",
    "import matplotlib.pyplot as plt\n",
    "from src.mapLoading import *\n",
    "import numpy as np\n",
    "from src.EvaluationMetrics import Evaluation\n",
    "from src.config.FireAlarm_config import get_firealarm_config\n",
    "import random\n",
    "import pandas as pd\n",
    "import os"
   ]
  },
  {
   "cell_type": "code",
   "execution_count": 4,
   "id": "da89d892",
   "metadata": {},
   "outputs": [
    {
     "name": "stdout",
     "output_type": "stream",
     "text": [
      "[1824, 409, 4506, 4012, 3657, 2286, 1679, 8935, 1424, 9674]\n"
     ]
    }
   ],
   "source": [
    "seed_range = 10\n",
    "random.seed(42)\n",
    "seeds = [random.randint(0, 10000) for _ in range(seed_range)]\n",
    "print(seeds)"
   ]
  },
  {
   "cell_type": "code",
   "execution_count": null,
   "id": "759f10a3",
   "metadata": {},
   "outputs": [
    {
     "ename": "FileNotFoundError",
     "evalue": "[Errno 2] No such file or directory: 'c:\\\\Users\\\\micha\\\\Desktop\\\\Naco-Project\\\\Natural-Computing\\\\Project\\\\maps\\\\obstacles_1.png'",
     "output_type": "error",
     "traceback": [
      "\u001b[31m---------------------------------------------------------------------------\u001b[39m",
      "\u001b[31mFileNotFoundError\u001b[39m                         Traceback (most recent call last)",
      "\u001b[36mCell\u001b[39m\u001b[36m \u001b[39m\u001b[32mIn[5]\u001b[39m\u001b[32m, line 6\u001b[39m\n\u001b[32m      4\u001b[39m scene = \u001b[33m\"\u001b[39m\u001b[33mno aids\u001b[39m\u001b[33m\"\u001b[39m\n\u001b[32m      5\u001b[39m filepath = \u001b[33m'\u001b[39m\u001b[33mmaps/obstacles_1.png\u001b[39m\u001b[33m'\u001b[39m\n\u001b[32m----> \u001b[39m\u001b[32m6\u001b[39m floormap = \u001b[43mloadFromImage\u001b[49m\u001b[43m(\u001b[49m\u001b[43mfilepath\u001b[49m\u001b[43m)\u001b[49m\n\u001b[32m      7\u001b[39m height, width = floormap.shape\n\u001b[32m      9\u001b[39m config = get_firealarm_config(\u001b[33m'\u001b[39m\u001b[33mobstacles\u001b[39m\u001b[33m'\u001b[39m, \u001b[33m'\u001b[39m\u001b[33mmain\u001b[39m\u001b[33m'\u001b[39m)\n",
      "\u001b[36mFile \u001b[39m\u001b[32mc:\\Users\\micha\\Desktop\\Naco-Project\\Natural-Computing\\Project\\src\\mapLoading.py:17\u001b[39m, in \u001b[36mloadFromImage\u001b[39m\u001b[34m(path, source)\u001b[39m\n\u001b[32m     13\u001b[39m project_root = Path(\u001b[34m__file__\u001b[39m).parent.parent\n\u001b[32m     15\u001b[39m full_path    = project_root / path    \n\u001b[32m---> \u001b[39m\u001b[32m17\u001b[39m image = \u001b[43mImage\u001b[49m\u001b[43m.\u001b[49m\u001b[43mopen\u001b[49m\u001b[43m(\u001b[49m\u001b[43mfull_path\u001b[49m\u001b[43m)\u001b[49m\n\u001b[32m     18\u001b[39m \u001b[38;5;28;01mif\u001b[39;00m image.mode != \u001b[33m'\u001b[39m\u001b[33mRGB\u001b[39m\u001b[33m'\u001b[39m:\n\u001b[32m     19\u001b[39m     image = image.convert(\u001b[33m'\u001b[39m\u001b[33mRGB\u001b[39m\u001b[33m'\u001b[39m)\n",
      "\u001b[36mFile \u001b[39m\u001b[32mc:\\Users\\micha\\Desktop\\Naco-Project\\Natural-Computing\\Project\\.venv\\Lib\\site-packages\\PIL\\Image.py:3505\u001b[39m, in \u001b[36mopen\u001b[39m\u001b[34m(fp, mode, formats)\u001b[39m\n\u001b[32m   3502\u001b[39m     filename = os.fspath(fp)\n\u001b[32m   3504\u001b[39m \u001b[38;5;28;01mif\u001b[39;00m filename:\n\u001b[32m-> \u001b[39m\u001b[32m3505\u001b[39m     fp = \u001b[43mbuiltins\u001b[49m\u001b[43m.\u001b[49m\u001b[43mopen\u001b[49m\u001b[43m(\u001b[49m\u001b[43mfilename\u001b[49m\u001b[43m,\u001b[49m\u001b[43m \u001b[49m\u001b[33;43m\"\u001b[39;49m\u001b[33;43mrb\u001b[39;49m\u001b[33;43m\"\u001b[39;49m\u001b[43m)\u001b[49m\n\u001b[32m   3506\u001b[39m     exclusive_fp = \u001b[38;5;28;01mTrue\u001b[39;00m\n\u001b[32m   3507\u001b[39m \u001b[38;5;28;01melse\u001b[39;00m:\n",
      "\u001b[31mFileNotFoundError\u001b[39m: [Errno 2] No such file or directory: 'c:\\\\Users\\\\micha\\\\Desktop\\\\Naco-Project\\\\Natural-Computing\\\\Project\\\\maps\\\\obstacles_1.png'"
     ]
    }
   ],
   "source": [
    "if __name__ == \"__main__\":\n",
    "    steps = 50\n",
    "    density = \"small\"\n",
    "    scene = \"no aids\"\n",
    "    filepath = 'maps/obstacles_2.png'\n",
    "    floormap = loadFromImage(filepath)\n",
    "    height, width = floormap.shape\n",
    "    \n",
    "    config = get_firealarm_config('obstacles', 'main')\n",
    "    \n",
    "    env = Environment(width, height).set_seed(1824)\n",
    "    struct = StructureLayer(width, height)\n",
    "    struct.grid = floormap.tolist()\n",
    "    env.add_layer('structure', struct)\n",
    "                \n",
    "    exits = env.get_exits()\n",
    "\n",
    "    fire = FireLayer(width,height, p_ignite=0.5, burn_time=10, spread_interval=2)\n",
    "    env.add_layer('fire', fire)\n",
    "    env.ignite_fire_randomly(n=1)\n",
    "                \n",
    "    smoke = SmokeLayer(width,height, diff_rate=0.1, emit_rate=0.4)\n",
    "    env.add_layer('smoke', smoke)\n",
    "                \n",
    "    if scene == \"lightstrips\" or scene == \"combined\":\n",
    "        print(f\"adding lightstrips for {scene}\")\n",
    "        light = LightStripLayer(width, height, exits)\n",
    "        env.add_layer('light', light)\n",
    "                \n",
    "    if scene == \"firealarms\" or scene == \"combined\":\n",
    "        print(f\"Adding firealarms for {scene}\")\n",
    "        firealarm = FireAlarmLayer(width, height, firealarm_coords=config['coords'], radius=config['radius'])\n",
    "        env.add_layer('firealarm', firealarm)\n",
    "\n",
    "                \n",
    "    env.spawn_agents(density=density)\n",
    "    env.save_initial_state()\n",
    "    \n",
    "     # static preview\n",
    "    for i in range(steps):\n",
    "        env.step()\n",
    "        env.display()"
   ]
  },
  {
   "cell_type": "code",
   "execution_count": null,
   "id": "5b4a32b8",
   "metadata": {},
   "outputs": [],
   "source": []
  }
 ],
 "metadata": {
  "kernelspec": {
   "display_name": ".venv",
   "language": "python",
   "name": "python3"
  },
  "language_info": {
   "codemirror_mode": {
    "name": "ipython",
    "version": 3
   },
   "file_extension": ".py",
   "mimetype": "text/x-python",
   "name": "python",
   "nbconvert_exporter": "python",
   "pygments_lexer": "ipython3",
   "version": "3.13.1"
  }
 },
 "nbformat": 4,
 "nbformat_minor": 5
}
