{
  "nbformat": 4,
  "nbformat_minor": 0,
  "metadata": {
    "colab": {
      "provenance": []
    },
    "kernelspec": {
      "name": "python3",
      "display_name": "Python 3"
    },
    "language_info": {
      "name": "python"
    }
  },
  "cells": [
    {
      "cell_type": "code",
      "execution_count": 1,
      "metadata": {
        "id": "DZEyBXuFfK7_"
      },
      "outputs": [],
      "source": [
        "# Import libraries and packages\n",
        "import subprocess\n",
        "import os\n",
        "import math\n",
        "import pandas as pd\n",
        "import numpy as np\n",
        "import matplotlib.pyplot as plt\n",
        "from sklearn.metrics import roc_curve, auc\n",
        "from google.colab import drive\n",
        "from tqdm import tqdm"
      ]
    },
    {
      "cell_type": "code",
      "source": [
        "# Mount google drive\n",
        "drive.mount('/content/drive')"
      ],
      "metadata": {
        "colab": {
          "base_uri": "https://localhost:8080/"
        },
        "id": "rWSKzvFyfpkI",
        "outputId": "591a5522-bf64-46b9-ddf4-830ab85f68f2"
      },
      "execution_count": 2,
      "outputs": [
        {
          "output_type": "stream",
          "name": "stdout",
          "text": [
            "Mounted at /content/drive\n"
          ]
        }
      ]
    },
    {
      "cell_type": "markdown",
      "source": [
        "# Global Variables"
      ],
      "metadata": {
        "id": "KiQV2MUZfsB-"
      }
    },
    {
      "cell_type": "code",
      "source": [
        "WORKING_DIR = \"/content/drive/MyDrive/NaCo/negative-selection\""
      ],
      "metadata": {
        "id": "9V-GYRGJfu82"
      },
      "execution_count": 3,
      "outputs": []
    },
    {
      "cell_type": "markdown",
      "source": [
        "# Data Processing\n",
        "\n",
        "## Helper Functions for File Reading"
      ],
      "metadata": {
        "id": "kiLBKs_ogPWf"
      }
    },
    {
      "cell_type": "code",
      "source": [
        "def read_sequences(file_path):\n",
        "    with open(file_path, 'r') as file:\n",
        "        sequences = [line.strip() for line in file if line.strip()]\n",
        "    return sequences\n",
        "\n",
        "def read_labels(file_path):\n",
        "    with open(file_path, 'r') as file:\n",
        "        labels = [int(line.strip()) for line in file if line.strip()]\n",
        "    return labels"
      ],
      "metadata": {
        "id": "n5LeWx8igR3F"
      },
      "execution_count": 4,
      "outputs": []
    },
    {
      "cell_type": "markdown",
      "source": [
        "## Sequence Preprocessing"
      ],
      "metadata": {
        "id": "7Bhk_d-zgd93"
      }
    },
    {
      "cell_type": "code",
      "source": [
        "# We used this function in our final experiments\n",
        "def non_overlapping_substrings_fixed_length(seq, k, drop_last=False):\n",
        "    chunks = []\n",
        "    n = len(seq)\n",
        "    for i in range(0, n, k):\n",
        "        if drop_last and i + k > n:\n",
        "            break\n",
        "        chunk = seq[i : i + k]\n",
        "        if len(chunk) < k:\n",
        "            chunk = chunk.ljust(k, '-')\n",
        "        chunks.append(chunk)\n",
        "    return chunks\n",
        "\n",
        "# This function was only used in some initial experiments, and included for completeness\n",
        "def all_substrings_fixed_length(seq, k):\n",
        "    \"\"\"\n",
        "    Return all k-length substrings (sliding windows).\n",
        "    \"\"\"\n",
        "    n = len(seq)\n",
        "    if n < k:\n",
        "        seq = seq.ljust(k, '-') ## add fill character to short strings\n",
        "        return [seq]\n",
        "    return [seq[i:i+k] for i in range(n - k + 1)]\n",
        "\n",
        "# Helper function to select the desired chunking method\n",
        "def get_chunk_function(non_overlapping, chunk_size, drop_last=False):\n",
        "    \"\"\"\n",
        "    Returns the appropriate chunking function based on the 'non_overlapping' flag.\n",
        "    \"\"\"\n",
        "    if non_overlapping:\n",
        "        return lambda s: non_overlapping_substrings_fixed_length(s, chunk_size, drop_last)\n",
        "    else:\n",
        "        return lambda s: all_substrings_fixed_length(s, chunk_size)\n",
        "\n",
        "def create_chunked_file(sequences, chunk_size, output_file, drop_last=False, non_overlapping=True):\n",
        "    \"\"\"\n",
        "    Chunk sequences and write them to output_file.\n",
        "    Can be used for both training and test sequences.\n",
        "    \"\"\"\n",
        "    chunk_function = get_chunk_function(non_overlapping, chunk_size, drop_last)  # Get the chunking function\n",
        "\n",
        "    with open(output_file, 'w') as out:\n",
        "        for seq in sequences:\n",
        "            for chunk in chunk_function(seq):  # Use the returned function\n",
        "                out.write(chunk + \"\\n\")"
      ],
      "metadata": {
        "id": "wp5lj7c2gba-"
      },
      "execution_count": 5,
      "outputs": []
    },
    {
      "cell_type": "markdown",
      "source": [
        "# Main Function to Run the Negative Selection Algorithm"
      ],
      "metadata": {
        "id": "2XAQdGjxhV_G"
      }
    },
    {
      "cell_type": "code",
      "source": [
        "def run_negative_selection(train, test, n=10, r=4, alphabet=None):\n",
        "    \"\"\"\n",
        "    Run negsel2.jar with the given parameters.\n",
        "    train = absolute path to the 'chunked' training file\n",
        "    test  = absolute path to file that will be fed to stdin\n",
        "    \"\"\"\n",
        "    try:\n",
        "      cmd = f\"java -jar negsel2.jar -alphabet {alphabet} -self {train} -n {n} -r {r} -c -l < {test}\"\n",
        "      output = subprocess.check_output(cmd, shell=True, stderr=subprocess.STDOUT, text=True, cwd=WORKING_DIR)\n",
        "      scores = np.fromstring(output, sep=\"\\n\")\n",
        "      return scores\n",
        "\n",
        "    except subprocess.CalledProcessError as e:\n",
        "      print(f\"Error: {e}\")\n",
        "      print(\"Command output:\", e.output)\n",
        "      return None"
      ],
      "metadata": {
        "id": "uBnFRgtlhZk1"
      },
      "execution_count": 6,
      "outputs": []
    },
    {
      "cell_type": "markdown",
      "source": [
        "# Sequence Classification"
      ],
      "metadata": {
        "id": "7TmP_AUThkgv"
      }
    },
    {
      "cell_type": "code",
      "source": [
        "def classify_sequences(sequences, chunk_size, train_chunked_file, alphabet_file, n, r,\n",
        "                         drop_last=False, non_overlapping=True, aggr=\"avg\"):\n",
        "    \"\"\"\n",
        "    Classify a list of test sequences by chunking each one, running the classifier,\n",
        "    and returning a list of average scores.\n",
        "    \"\"\"\n",
        "    classification_scores = []\n",
        "    # Choose the appropriate chunking function for test sequences\n",
        "    chunk_function = get_chunk_function(non_overlapping, chunk_size, drop_last)\n",
        "\n",
        "    tmp_file = os.path.join(WORKING_DIR, \"tmp_test_chunks.txt\")\n",
        "    for seq in tqdm(sequences, desc=f\"Classifying test sequences-n={n}, r={r}\"):\n",
        "        # Write test sequence chunks to a temporary file\n",
        "        with open(tmp_file, 'w') as out:\n",
        "            for chunk in chunk_function(seq):\n",
        "              out.write(chunk + \"\\n\")\n",
        "        # Get scores from the classifier\n",
        "        chunk_scores = run_negative_selection(\n",
        "            train=train_chunked_file,\n",
        "            test=tmp_file,\n",
        "            n=n,\n",
        "            r=r,\n",
        "            alphabet=alphabet_file\n",
        "        )\n",
        "        if chunk_scores is None or len(chunk_scores) == 0:\n",
        "          classification_scores.append(0.0)\n",
        "        else:\n",
        "          if aggr == \"avg\": # For the final experiments Average Aggregation was used\n",
        "            avg_score = np.mean(chunk_scores)\n",
        "            classification_scores.append(avg_score)\n",
        "          elif aggr == \"max\":\n",
        "            max_score = np.max(chunk_scores)\n",
        "            classification_scores.append(max_score)\n",
        "\n",
        "    return classification_scores"
      ],
      "metadata": {
        "id": "KTgOrUSThpq9"
      },
      "execution_count": 7,
      "outputs": []
    },
    {
      "cell_type": "markdown",
      "source": [
        "# Compute Normal & Anomaly Scores"
      ],
      "metadata": {
        "id": "kMN3f2elh9jm"
      }
    },
    {
      "cell_type": "code",
      "source": [
        "def get_scores(classification_scores, labels):\n",
        "  normal_scores = np.array([score for score, lab in zip(classification_scores, labels) if lab == 0])\n",
        "  anomaly_scores_arr = np.array([score for score, lab in zip(classification_scores, labels) if lab == 1])\n",
        "  return normal_scores, anomaly_scores_arr"
      ],
      "metadata": {
        "id": "rzUstoyQiCHN"
      },
      "execution_count": 8,
      "outputs": []
    },
    {
      "cell_type": "markdown",
      "source": [
        "# Validation\n",
        "\n",
        "### For Running a Single Experiment"
      ],
      "metadata": {
        "id": "23Fy9mhKiHxe"
      }
    },
    {
      "cell_type": "code",
      "source": [
        "def plot_ROC_curve_single(fpr, tpr, roc_auc, r):\n",
        "    plt.figure()\n",
        "    plt.plot(fpr, tpr, color='orange', label=f'ROC curve (AUC = {roc_auc:.2f})')\n",
        "    plt.plot([0, 1], [0, 1], color='gray', linestyle='--')  # diagonal line\n",
        "    plt.fill_between(fpr, tpr, color='lightblue', alpha=0.5)\n",
        "    plt.xlabel(\"False Positive Rate (1 - Specificity)\")\n",
        "    plt.ylabel(\"True Positive Rate (Sensitivity)\")\n",
        "    plt.title(f\"ROC Curve for r={r}\")\n",
        "    plt.legend(loc=\"lower right\")\n",
        "    plt.show()\n",
        "\n",
        "def AUC_analysis_single(normal_scores, anomaly_scores, r):\n",
        "    normal_labels = np.zeros_like(normal_scores)\n",
        "    anomaly_labels = np.ones_like(anomaly_scores)\n",
        "    all_scores = np.concatenate([normal_scores, anomaly_scores])\n",
        "    all_labels = np.concatenate([normal_labels, anomaly_labels])\n",
        "    fpr, tpr, thresholds = roc_curve(all_labels, all_scores, pos_label=1)\n",
        "    roc_auc = auc(fpr, tpr)\n",
        "    plot_ROC_curve_single(fpr, tpr, roc_auc, r)"
      ],
      "metadata": {
        "id": "VnMLF59am3xf"
      },
      "execution_count": 14,
      "outputs": []
    },
    {
      "cell_type": "markdown",
      "source": [
        "### For Runing Multiple Experiments"
      ],
      "metadata": {
        "id": "0CkFBbf_m73u"
      }
    },
    {
      "cell_type": "code",
      "source": [
        "def AUC_analysis(normal_scores, anomaly_scores):\n",
        "    # Create labels\n",
        "    normal_labels = np.zeros_like(normal_scores)  # 0 for normal\n",
        "    anomaly_labels = np.ones_like(anomaly_scores)   # 1 for anomalous\n",
        "    # Concatenate scores and labels\n",
        "    all_scores = np.concatenate([normal_scores, anomaly_scores])\n",
        "    all_labels = np.concatenate([normal_labels, anomaly_labels])\n",
        "    fpr, tpr, _ = roc_curve(all_labels, all_scores, pos_label=1)\n",
        "    roc_auc = auc(fpr, tpr)\n",
        "    return fpr, tpr, roc_auc\n",
        "\n",
        "def plot_ROC_curves(fpr_list, tpr_list, roc_auc_list, r_values, n, sys_data_dir=None, file_index=None):\n",
        "    \"\"\"\n",
        "    Plots multiple ROC curves in a grid.\n",
        "\n",
        "    Parameters:\n",
        "      - fpr_list: List of false positive rate arrays.\n",
        "      - tpr_list: List of true positive rate arrays.\n",
        "      - roc_auc_list: List of AUC values.\n",
        "      - r_values: List of r parameter values (for titles).\n",
        "    \"\"\"\n",
        "    num_r = len(r_values)\n",
        "    # Determine grid dimensions based on number of r values\n",
        "    cols = math.ceil(math.sqrt(num_r))\n",
        "    rows = math.ceil(num_r / cols)\n",
        "\n",
        "    fig, axes = plt.subplots(rows, cols, figsize=(5 * cols, 5 * rows))\n",
        "\n",
        "    # Flatten axes for iteration (even if there's a single row/column)\n",
        "    if isinstance(axes, np.ndarray):\n",
        "        axes = axes.flatten()\n",
        "    else:\n",
        "        axes = [axes]\n",
        "\n",
        "    # Hide unused subplots, if any\n",
        "    for ax in axes[num_r:]:\n",
        "        ax.set_visible(False)\n",
        "\n",
        "    # Plot each ROC curve\n",
        "    for i, (fpr, tpr, roc_auc, r) in enumerate(zip(fpr_list, tpr_list, roc_auc_list, r_values)):\n",
        "        ax = axes[i]\n",
        "        ax.plot(fpr, tpr, color='orange', label=f'ROC curve (AUC = {roc_auc:.2f})')\n",
        "        ax.plot([0, 1], [0, 1], color='gray', linestyle='--')  # Diagonal line\n",
        "        ax.fill_between(fpr, tpr, color='lightblue', alpha=0.5)   # Fill under curve\n",
        "        ax.set_xlabel(\"False Positive Rate (1 - Specificity)\")\n",
        "        ax.set_ylabel(\"True Positive Rate (Sensitivity)\")\n",
        "        ax.set_title(f\"ROC Curve (n={n}, r={r})\")\n",
        "        ax.legend(loc=\"lower right\")\n",
        "\n",
        "    plt.tight_layout()\n",
        "    if sys_data_dir is not None and file_index is not None:\n",
        "      save_plots(file_index, sys_data_dir, fig, axes,num_r, r_values, n)\n",
        "\n",
        "    plt.show()\n",
        "\n",
        "# Helper function for saving plots\n",
        "def save_plots(file_index, sys_data_dir, fig, axes,num_r, r_values, n):\n",
        "  plots_dir = os.path.join(WORKING_DIR, \"syscalls\", sys_data_dir, \"plots\")\n",
        "  subplot_dir = os.path.join(WORKING_DIR, \"syscalls\", sys_data_dir, \"subplots\")\n",
        "  # Create directories if they don't exist\n",
        "  os.makedirs(plots_dir, exist_ok=True)\n",
        "  os.makedirs(subplot_dir, exist_ok=True)\n",
        "  # Save the entire figure (all subplots together)\n",
        "  full_fig_filename = os.path.join(subplot_dir, f\"{sys_data_dir}-{file_index}-ROC-curve-subplot-n-{n}.png\")\n",
        "  plt.savefig(full_fig_filename)\n",
        "\n",
        "  # Draw the canvas to update bounding boxes\n",
        "  fig.canvas.draw()\n",
        "\n",
        "  # Save each individual subplot using its tight bounding box\n",
        "  for i, (ax, r) in enumerate(zip(axes[:num_r], r_values)):\n",
        "    bbox = ax.get_tightbbox(fig.canvas.get_renderer()).transformed(fig.dpi_scale_trans.inverted())\n",
        "    subplot_filename = os.path.join(plots_dir, f\"{sys_data_dir}-{file_index}-ROC-curve-n-{n}-r-{r}.png\")\n",
        "    fig.savefig(subplot_filename, bbox_inches=bbox)\n",
        "\n",
        "  print(f\"Plots and subplots for n:{n} saved!\")"
      ],
      "metadata": {
        "id": "RwsyStysiI_e"
      },
      "execution_count": 20,
      "outputs": []
    },
    {
      "cell_type": "markdown",
      "source": [
        "# Demo's\n",
        "\n",
        "## Demo run on a Single File With Average Aggregation"
      ],
      "metadata": {
        "id": "UUM3Ogo8m_1m"
      }
    },
    {
      "cell_type": "code",
      "source": [
        "# Parameters\n",
        "# Config: use absolute paths\n",
        "alpha_file = os.path.join(WORKING_DIR, \"syscalls\", \"snd-cert\", \"snd-cert.alpha\")\n",
        "train_raw_file = os.path.join(WORKING_DIR, \"syscalls\", \"snd-cert\", \"snd-cert.train\")\n",
        "test_raw_file  = os.path.join(WORKING_DIR, \"syscalls\", \"snd-cert\", \"snd-cert.1.test\")\n",
        "label_file     = os.path.join(WORKING_DIR, \"syscalls\", \"snd-cert\", \"snd-cert.1.labels\")\n",
        "chunk_size     = 10\n",
        "n_param        = 10\n",
        "r_param        = 4\n",
        "\n",
        "alpha_param = \"file://\" + alpha_file\n",
        "# Read training sequences and create chunked training file\n",
        "train_sequences = read_sequences(train_raw_file)\n",
        "train_chunked_file = os.path.join(WORKING_DIR, \"snd-cert.train.chunked\")\n",
        "create_chunked_file(train_sequences, chunk_size, train_chunked_file, drop_last=False, non_overlapping=True)\n",
        "\n",
        "# Read test sequences and labels\n",
        "test_sequences = read_sequences(test_raw_file)\n",
        "labels = read_labels(label_file)\n",
        "print(\"Number of test sequences:\", len(test_sequences))"
      ],
      "metadata": {
        "colab": {
          "base_uri": "https://localhost:8080/"
        },
        "id": "Wn6fKL8znKg3",
        "outputId": "cdc13fe1-c05a-4486-bac1-e578cb86a608"
      },
      "execution_count": 17,
      "outputs": [
        {
          "output_type": "stream",
          "name": "stdout",
          "text": [
            "Number of test sequences: 100\n"
          ]
        }
      ]
    },
    {
      "cell_type": "code",
      "source": [
        "# Classify test sequences\n",
        "classification_scores = classify_sequences(test_sequences, chunk_size, train_chunked_file,\n",
        "                                        alpha_param, n_param, r_param,\n",
        "                                        drop_last=False, non_overlapping=True,\n",
        "                                           aggr=\"avg\")\n",
        "print()\n",
        "print(classification_scores[0:20])\n",
        "normal_scores, anomaly_scores_arr = get_scores(classification_scores, labels)\n",
        "AUC_analysis_single(normal_scores, anomaly_scores_arr, r_param)\n",
        "\n"
      ],
      "metadata": {
        "colab": {
          "base_uri": "https://localhost:8080/",
          "height": 547
        },
        "id": "O1XB2x5HnAU_",
        "outputId": "aa13347d-fdf5-4600-ee57-e88f1b66b7cc"
      },
      "execution_count": 18,
      "outputs": [
        {
          "output_type": "stream",
          "name": "stderr",
          "text": [
            "Classifying test sequences-n=10, r=4: 100%|██████████| 100/100 [02:48<00:00,  1.68s/it]"
          ]
        },
        {
          "output_type": "stream",
          "name": "stdout",
          "text": [
            "\n",
            "[0.0, 18.339727384947224, 0.0, 7.278828852026805, 0.0, 10.93233977333974, 14.465763298907513, 0.0, 0.0, 0.0, 14.566689620021787, 0.0, 0.0, 18.19350167194425, 18.481374034356772, 25.6035235552171, 18.555876353958798, 3.580462314434746, 0.0, 11.019880155357919]\n"
          ]
        },
        {
          "output_type": "stream",
          "name": "stderr",
          "text": [
            "\n"
          ]
        },
        {
          "output_type": "display_data",
          "data": {
            "text/plain": [
              "<Figure size 640x480 with 1 Axes>"
            ],
            "image/png": "[encoded data removed]"
          },
          "metadata": {}
        }
      ]
    },
    {
      "cell_type": "markdown",
      "source": [
        "## Demo run on a Single File With Max Aggregation"
      ],
      "metadata": {
        "id": "U6tnG8MKn08_"
      }
    },
    {
      "cell_type": "code",
      "source": [
        "# Classify test sequences\n",
        "classification_scores = classify_sequences(test_sequences, chunk_size, train_chunked_file,\n",
        "                                        alpha_param, n_param, r_param,\n",
        "                                        drop_last=False, non_overlapping=True,\n",
        "                                           aggr=\"max\")\n",
        "print()\n",
        "print(classification_scores[0:20])\n",
        "normal_scores, anomaly_scores_arr = get_scores(classification_scores, labels)\n",
        "AUC_analysis_single(normal_scores, anomaly_scores_arr, r_param)"
      ],
      "metadata": {
        "colab": {
          "base_uri": "https://localhost:8080/",
          "height": 547
        },
        "id": "XCJArGa3n3hd",
        "outputId": "b6ce992d-3b3d-435d-f25a-be508dd50348"
      },
      "execution_count": 19,
      "outputs": [
        {
          "output_type": "stream",
          "name": "stderr",
          "text": [
            "Classifying test sequences-n=10, r=4: 100%|██████████| 100/100 [02:39<00:00,  1.60s/it]\n"
          ]
        },
        {
          "output_type": "stream",
          "name": "stdout",
          "text": [
            "\n",
            "[0.0, 37.403030764021054, 0.0, 36.40303670166766, 0.0, 37.37154117130066, 37.62820637862219, 0.0, 0.0, 0.0, 37.62820637862219, 0.0, 0.0, 37.139712023122144, 37.39429218596092, 37.40272074274366, 37.61391358728196, 35.80462314434746, 0.0, 37.39292644161686]\n"
          ]
        },
        {
          "output_type": "display_data",
          "data": {
            "text/plain": [
              "<Figure size 640x480 with 1 Axes>"
            ],
            "image/png": "[encoded data removed]"
          },
          "metadata": {}
        }
      ]
    },
    {
      "cell_type": "markdown",
      "source": [
        "# Experiments\n",
        "\n",
        "## Grid Search Function for Running Multiple Experiments"
      ],
      "metadata": {
        "id": "G6k0e0xCi8IW"
      }
    },
    {
      "cell_type": "code",
      "source": [
        "def grid_search(WORKING_DIR,\n",
        "                sys_data_dir,\n",
        "                alpha_file_name,\n",
        "                train_file_name,\n",
        "                n_values,\n",
        "                r_values,\n",
        "                test_files,\n",
        "                label_files,\n",
        "                drop_last=False,\n",
        "                non_overlapping=True,\n",
        "                aggr=\"avg\"):\n",
        "    # Create a common data directory path.\n",
        "    data_dir = os.path.join(WORKING_DIR, \"syscalls\", sys_data_dir)\n",
        "\n",
        "    # Define file paths for the alpha and training files.\n",
        "    alpha_file = os.path.join(data_dir, alpha_file_name)\n",
        "    train_raw_file = os.path.join(data_dir, train_file_name)\n",
        "    alpha_param = f\"file://{alpha_file}\"\n",
        "\n",
        "    # Read training sequences once.\n",
        "    train_sequences = read_sequences(train_raw_file)\n",
        "\n",
        "    # Iterate over each test file and its corresponding label file.\n",
        "    for index, (test_file, label_file) in enumerate(zip(test_files, label_files)):\n",
        "        file_index = index + 1  # Index starts from 1\n",
        "        results = {}  # Dictionary to store AUC values for each configuration\n",
        "        test_raw_file = os.path.join(data_dir, test_file)\n",
        "        label_path = os.path.join(data_dir, label_file)\n",
        "\n",
        "        test_sequences = read_sequences(test_raw_file)\n",
        "        test_labels = read_labels(label_path)\n",
        "        print(f\"Number of test sequences in {test_file}: {len(test_sequences)}\")\n",
        "\n",
        "        # Iterate over each n value (chunk size).\n",
        "        for n in n_values:\n",
        "            chunk_size = n\n",
        "            # Define the path for the chunked training file.\n",
        "            train_chunked_file = os.path.join(WORKING_DIR, f\"{sys_data_dir}-n-{chunk_size}.train.chunked\")\n",
        "            create_chunked_file(train_sequences, chunk_size, train_chunked_file,\n",
        "                                drop_last=False, non_overlapping=True)\n",
        "\n",
        "            # Filter r_values to only include those <= current n\n",
        "            valid_r_values = [r for r in r_values if r <= n]\n",
        "\n",
        "            # Lists to accumulate ROC metrics for each valid r value.\n",
        "            fpr_list, tpr_list, auc_list = [], [], []\n",
        "\n",
        "            # Iterate over each valid r value.\n",
        "            for r in valid_r_values:\n",
        "                # Classify test sequences using the current parameters.\n",
        "                classification_scores = classify_sequences(\n",
        "                    test_sequences,\n",
        "                    chunk_size,\n",
        "                    train_chunked_file,\n",
        "                    alpha_param,\n",
        "                    n,  # current n\n",
        "                    r,  # current r\n",
        "                    drop_last=drop_last,\n",
        "                    non_overlapping=non_overlapping,\n",
        "                    aggr=aggr\n",
        "                )\n",
        "                normal_scores, anomaly_scores_arr = get_scores(classification_scores, test_labels)\n",
        "                fpr, tpr, roc_auc = AUC_analysis(normal_scores, anomaly_scores_arr)\n",
        "\n",
        "                # Store results and accumulate ROC metrics.\n",
        "                results[(test_file, n, r)] = roc_auc\n",
        "                fpr_list.append(fpr)\n",
        "                tpr_list.append(tpr)\n",
        "                auc_list.append(roc_auc)\n",
        "\n",
        "            # Plot ROC curves for all valid r values for the current n.\n",
        "            plot_ROC_curves(fpr_list, tpr_list, auc_list, valid_r_values, n, sys_data_dir, file_index)\n",
        "\n",
        "        # Determine and print the best configuration.\n",
        "        print(f\"Results: {results}\")\n",
        "        best_config = max(results, key=results.get)\n",
        "        best_auc = results[best_config]\n",
        "        print(\"\\nBest configuration:\")\n",
        "        print(f\"Test File: {best_config[0]}, Chunk Size (n): {best_config[1]}, r: {best_config[2]}, AUC: {best_auc}\")\n"
      ],
      "metadata": {
        "id": "CKYmLvrMi-NV"
      },
      "execution_count": 10,
      "outputs": []
    },
    {
      "cell_type": "markdown",
      "source": [
        "## Global Experiment Parameters"
      ],
      "metadata": {
        "id": "9WU736M1mjQV"
      }
    },
    {
      "cell_type": "code",
      "source": [
        "N_VALUES = [10]\n",
        "R_VALUES = [1, 2, 3, 4, 5, 6, 7, 8, 9]"
      ],
      "metadata": {
        "id": "2GVT-D-jmmaw"
      },
      "execution_count": 13,
      "outputs": []
    },
    {
      "cell_type": "markdown",
      "source": [
        "## Experiments snd-cert\n",
        "### Parameters"
      ],
      "metadata": {
        "id": "k14CrFqPkUiP"
      }
    },
    {
      "cell_type": "code",
      "source": [
        "snd_cert_sys_data_dir = \"snd-cert\"\n",
        "alpha_file_name = \"snd-cert.alpha\"\n",
        "train_file_name = \"snd-cert.train\"\n",
        "snd_cert_test_files = [\"snd-cert.1.test\", \"snd-cert.2.test\", \"snd-cert.3.test\"]\n",
        "snd_cert_labels = [\"snd-cert.1.labels\", \"snd-cert.2.labels\", \"snd-cert.3.labels\"]"
      ],
      "metadata": {
        "id": "JPJp31Fukapd"
      },
      "execution_count": 11,
      "outputs": []
    },
    {
      "cell_type": "markdown",
      "source": [
        "## Run this cell to reproduce the results for snd-cert"
      ],
      "metadata": {
        "id": "eURRl-R_mEOI"
      }
    },
    {
      "cell_type": "code",
      "source": [
        "# Run this cell to reproduce the\n",
        "grid_search(WORKING_DIR,\n",
        "                snd_cert_sys_data_dir,\n",
        "                alpha_file_name,\n",
        "                train_file_name,\n",
        "                N_VALUES,\n",
        "                R_VALUES,\n",
        "                snd_cert_test_files,\n",
        "                snd_cert_labels,\n",
        "                drop_last=False,\n",
        "                non_overlapping=True,\n",
        "                aggr=\"avg\"\n",
        "            )"
      ],
      "metadata": {
        "id": "GScJ6XiEkd8-"
      },
      "execution_count": 19,
      "outputs": []
    },
    {
      "cell_type": "markdown",
      "source": [
        "## Experiments snd-unm\n",
        "### Parameters"
      ],
      "metadata": {
        "id": "HblfxXgGpStI"
      }
    },
    {
      "cell_type": "code",
      "source": [
        "snd_unm_sys_data_dir = \"snd-unm\"\n",
        "alpha_file_name = \"snd-unm.alpha\"\n",
        "train_file_name = \"snd-unm.train\"\n",
        "snd_unm_test_files = [\"snd-unm.1.test\", \"snd-unm.2.test\", \"snd-unm.3.test\"]\n",
        "snd_unm_labels = [\"snd-unm.1.labels\", \"snd-unm.2.labels\", \"snd-unm.3.labels\"]"
      ],
      "metadata": {
        "id": "RdWuuCbllUfe"
      },
      "execution_count": null,
      "outputs": []
    },
    {
      "cell_type": "markdown",
      "source": [
        "## Run this cell to reproduce the results for snd-unm"
      ],
      "metadata": {
        "id": "Yg2fXpkPpn3e"
      }
    },
    {
      "cell_type": "code",
      "source": [
        "grid_search(WORKING_DIR,\n",
        "                snd_unm_sys_data_dir,\n",
        "                alpha_file_name,\n",
        "                train_file_name,\n",
        "                N_VALUES,\n",
        "                R_VALUES,\n",
        "                snd_unm_test_files,\n",
        "                snd_unm_labels,\n",
        "                drop_last=False,\n",
        "                non_overlapping=True,\n",
        "                aggr=\"avg\"\n",
        "            )"
      ],
      "metadata": {
        "id": "iArBZBe4pyDe"
      },
      "execution_count": null,
      "outputs": []
    }
  ]
}